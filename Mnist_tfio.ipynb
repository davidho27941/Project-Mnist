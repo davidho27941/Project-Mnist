{
 "cells": [
  {
   "cell_type": "code",
   "execution_count": 1,
   "metadata": {},
   "outputs": [
    {
     "name": "stdout",
     "output_type": "stream",
     "text": [
      "10\n"
     ]
    }
   ],
   "source": [
    "import tensorflow as tf\n",
    "import tensorflow_io as tfio\n",
    "\n",
    "d_train = []\n",
    "d_val = []\n",
    "# Read MNIST into Dataset\n",
    "for i in range(0,10):\n",
    "    d_train.append(tfio.IODataset.from_mnist(\n",
    "        'http://yann.lecun.com/exdb/mnist/train-images-idx3-ubyte.gz',\n",
    "        'http://yann.lecun.com/exdb/mnist/train-labels-idx1-ubyte.gz').batch(64))\n",
    "    d_val.append(tfio.IODataset.from_mnist(\n",
    "        'http://yann.lecun.com/exdb/mnist/t10k-images-idx3-ubyte.gz',\n",
    "        'http://yann.lecun.com/exdb/mnist/t10k-labels-idx1-ubyte.gz').batch(64))\n",
    "print(len(d_train))\n",
    "train = []\n",
    "val = []\n",
    "# By default image data is uint8 so conver to float32.\n",
    "for i in range(len(d_train)):\n",
    "    train.append(d_train[i].map(lambda x, y: (tf.image.convert_image_dtype(x, tf.float32), y)))\n",
    "for i in range(len(d_val)):\n",
    "    val.append(d_val[i].map(lambda x, y: (tf.image.convert_image_dtype(x, tf.float32), y)))\n",
    "\n",
    "\n"
   ]
  },
  {
   "cell_type": "code",
   "execution_count": 2,
   "metadata": {},
   "outputs": [
    {
     "name": "stdout",
     "output_type": "stream",
     "text": [
      "Train for 938 steps, validate for 156 steps\n",
      "938/938 [==============================] - 153s 164ms/step - loss: 0.2413 - accuracy: 0.9296 - val_loss: 0.1403 - val_accuracy: 0.9556\n",
      "[0.9295667] [0.24136799995501837]\n",
      "Train for 938 steps, validate for 156 steps\n",
      "938/938 [==============================] - 150s 160ms/step - loss: 0.0986 - accuracy: 0.9707 - val_loss: 0.0988 - val_accuracy: 0.9694\n",
      "[0.97073334] [0.09867791667754451]\n",
      "Train for 938 steps, validate for 156 steps\n",
      "938/938 [==============================] - 152s 162ms/step - loss: 0.0608 - accuracy: 0.9821 - val_loss: 0.0899 - val_accuracy: 0.9719\n",
      "[0.9820833] [0.06078123601134867]\n",
      "Train for 938 steps, validate for 156 steps\n",
      "938/938 [==============================] - 155s 166ms/step - loss: 0.0399 - accuracy: 0.9890 - val_loss: 0.0746 - val_accuracy: 0.9769\n",
      "[0.98896664] [0.039922555409449466]\n",
      "Train for 938 steps, validate for 156 steps\n",
      "938/938 [==============================] - 151s 161ms/step - loss: 0.0261 - accuracy: 0.9934 - val_loss: 0.0900 - val_accuracy: 0.9731\n",
      "[0.99336666] [0.026115718618330234]\n",
      "Train for 938 steps, validate for 156 steps\n",
      "938/938 [==============================] - 152s 162ms/step - loss: 0.0178 - accuracy: 0.9960 - val_loss: 0.0961 - val_accuracy: 0.9716\n",
      "[0.996] [0.017789291400578805]\n",
      "Train for 938 steps, validate for 156 steps\n",
      "938/938 [==============================] - 152s 162ms/step - loss: 0.0145 - accuracy: 0.9960 - val_loss: 0.0973 - val_accuracy: 0.9737\n",
      "[0.9960167] [0.014465486082194062]\n",
      "Train for 938 steps, validate for 156 steps\n",
      "938/938 [==============================] - 150s 160ms/step - loss: 0.0129 - accuracy: 0.9960 - val_loss: 0.0766 - val_accuracy: 0.9796\n",
      "[0.9960167] [0.012932325227232649]\n",
      "Train for 938 steps, validate for 156 steps\n",
      "938/938 [==============================] - 157s 167ms/step - loss: 0.0106 - accuracy: 0.9970 - val_loss: 0.0850 - val_accuracy: 0.9774\n",
      "[0.99705] [0.01061484583376053]\n",
      "Train for 938 steps, validate for 156 steps\n",
      "938/938 [==============================] - 151s 161ms/step - loss: 0.0092 - accuracy: 0.9973 - val_loss: 0.0811 - val_accuracy: 0.9797\n",
      "[0.99728334] [0.009191176853794605]\n"
     ]
    }
   ],
   "source": [
    "model = tf.keras.models.Sequential([\n",
    "    tf.keras.layers.Flatten(input_shape=(28, 28)),\n",
    "  tf.keras.layers.Dense(512, activation=tf.nn.relu),\n",
    "  tf.keras.layers.Dense(10, activation=tf.nn.softmax)\n",
    "])\n",
    "model.compile(optimizer='adam',\n",
    "              loss='sparse_categorical_crossentropy',\n",
    "              metrics=['accuracy'])\n",
    "acc = []\n",
    "loss = []\n",
    "for i in range(len(train)):\n",
    "    train_history = model.fit(train[i], validation_data=val[i], epochs=1,steps_per_epoch=938, validation_steps=156)\n",
    "    acc.append(train_history.history['accuracy'])\n",
    "    loss.append(train_history.history['loss'])\n",
    "    print(train_history.history['accuracy'],train_history.history['loss'] )"
   ]
  },
  {
   "cell_type": "code",
   "execution_count": 7,
   "metadata": {},
   "outputs": [
    {
     "data": {
      "text/plain": [
       "[[0.9298667],\n",
       " [0.97138333],\n",
       " [0.98253334],\n",
       " [0.98925],\n",
       " [0.99333334],\n",
       " [0.9961333],\n",
       " [0.9968],\n",
       " [0.99556667],\n",
       " [0.99688333],\n",
       " [0.9974333]]"
      ]
     },
     "execution_count": 7,
     "metadata": {},
     "output_type": "execute_result"
    }
   ],
   "source": [
    "acc"
   ]
  },
  {
   "cell_type": "code",
   "execution_count": 8,
   "metadata": {},
   "outputs": [
    {
     "data": {
      "text/plain": [
       "[[0.23973287898401419],\n",
       " [0.09728824237336715],\n",
       " [0.05980095709214608],\n",
       " [0.038753320788157485],\n",
       " [0.025436624549608676],\n",
       " [0.016823602598238115],\n",
       " [0.012472593122666392],\n",
       " [0.014080519310605208],\n",
       " [0.010651106790449316],\n",
       " [0.0082368923891976]]"
      ]
     },
     "execution_count": 8,
     "metadata": {},
     "output_type": "execute_result"
    }
   ],
   "source": [
    "loss"
   ]
  },
  {
   "cell_type": "code",
   "execution_count": null,
   "metadata": {},
   "outputs": [],
   "source": []
  }
 ],
 "metadata": {
  "kernelspec": {
   "display_name": "Python 3.6.9 64-bit",
   "language": "python",
   "name": "python36964bitd473ecf5dc094bd6887a96a1d3029107"
  },
  "language_info": {
   "codemirror_mode": {
    "name": "ipython",
    "version": 3
   },
   "file_extension": ".py",
   "mimetype": "text/x-python",
   "name": "python",
   "nbconvert_exporter": "python",
   "pygments_lexer": "ipython3",
   "version": "3.6.9"
  }
 },
 "nbformat": 4,
 "nbformat_minor": 4
}
